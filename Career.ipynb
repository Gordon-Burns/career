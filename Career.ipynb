{
  "nbformat": 4,
  "nbformat_minor": 0,
  "metadata": {
    "colab": {
      "provenance": [],
      "authorship_tag": "ABX9TyP7x8cccv5lchQtgGlonLP9",
      "include_colab_link": true
    },
    "kernelspec": {
      "name": "python3",
      "display_name": "Python 3"
    },
    "language_info": {
      "name": "python"
    }
  },
  "cells": [
    {
      "cell_type": "markdown",
      "metadata": {
        "id": "view-in-github",
        "colab_type": "text"
      },
      "source": [
        "<a href=\"https://colab.research.google.com/github/Gordon-Burns/career/blob/main/Career.ipynb\" target=\"_parent\"><img src=\"https://colab.research.google.com/assets/colab-badge.svg\" alt=\"Open In Colab\"/></a>"
      ]
    },
    {
      "cell_type": "code",
      "execution_count": 1,
      "metadata": {
        "id": "QnIfZM8TOqUg",
        "colab": {
          "base_uri": "https://localhost:8080/"
        },
        "outputId": "86ad73e0-c15e-4f2f-c2f4-00255cf79858"
      },
      "outputs": [
        {
          "output_type": "stream",
          "name": "stdout",
          "text": [
            "\u001b[2K     \u001b[90m━━━━━━━━━━━━━━━━━━━━━━━━━━━━━━━━━━━━━━━━\u001b[0m \u001b[32m156.8/156.8 kB\u001b[0m \u001b[31m1.5 MB/s\u001b[0m eta \u001b[36m0:00:00\u001b[0m\n",
            "\u001b[?25h"
          ]
        }
      ],
      "source": [
        "!pip install bar_chart_race -q\n",
        "import datetime"
      ]
    },
    {
      "cell_type": "code",
      "source": [
        "import bar_chart_race as bcr\n",
        "import pandas as pd\n",
        "import numpy as np"
      ],
      "metadata": {
        "id": "QVufVjrAPK7N"
      },
      "execution_count": 6,
      "outputs": []
    },
    {
      "cell_type": "code",
      "source": [
        "\n",
        "# Original data\n",
        "data = {\n",
        "    \"Start_Date\": [\n",
        "        \"2013-11-01\", \"2016-01-01\", \"2016-08-01\", \"2019-02-01\", \"2021-08-01\"\n",
        "    ],\n",
        "    \"End_Date\": [\n",
        "        \"2015-12-31\", \"2016-08-31\", \"2019-02-28\", \"2021-08-31\", \"2024-07-01\"\n",
        "    ],\n",
        "    \"Company\": [\n",
        "        \"Cummins\", \"Sopra Steria\", \"Cummins\", \"ScottishPower\", \"Dufrain\"\n",
        "    ]\n",
        "}\n",
        "\n",
        "# Creating a DataFrame\n",
        "df = pd.DataFrame(data)\n",
        "df['Start_Date'] = pd.to_datetime(df['Start_Date'])\n",
        "df['End_Date'] = pd.to_datetime(df['End_Date'])\n",
        "\n",
        "# Create a date range from the start to the end of the dataset\n",
        "date_range = pd.date_range(start=df['Start_Date'].min(), end=df['End_Date'].max(), freq='M')\n",
        "\n",
        "# Initialize the cumulative dataset\n",
        "cumulative_data = pd.DataFrame(index=date_range, columns=df['Company'].unique()).fillna(0)\n",
        "\n",
        "# Fill the cumulative data\n",
        "for _, row in df.iterrows():\n",
        "    company = row['Company']\n",
        "    start_date = row['Start_Date']\n",
        "    end_date = row['End_Date']\n",
        "    mask = (cumulative_data.index >= start_date) & (cumulative_data.index <= end_date)\n",
        "    cumulative_data.loc[mask, company] += 1\n",
        "\n",
        "# Perform a cumulative sum to accumulate the months worked\n",
        "cumulative_data = cumulative_data.cumsum()\n",
        "\n",
        "# Fill forward to ensure continuity\n",
        "cumulative_data.ffill(inplace=True)\n",
        "\n",
        "# Create the racing barchart\n",
        "bcr.bar_chart_race(df=cumulative_data, filename='work_history_racing_barchart.mp4')\n"
      ],
      "metadata": {
        "colab": {
          "base_uri": "https://localhost:8080/"
        },
        "id": "4y1DmWKGk50k",
        "outputId": "e0f86146-31e6-4053-e80b-03104da55451"
      },
      "execution_count": 8,
      "outputs": [
        {
          "output_type": "stream",
          "name": "stderr",
          "text": [
            "/usr/local/lib/python3.10/dist-packages/bar_chart_race/_make_chart.py:286: UserWarning: FixedFormatter should only be used together with FixedLocator\n",
            "  ax.set_yticklabels(self.df_values.columns)\n",
            "/usr/local/lib/python3.10/dist-packages/bar_chart_race/_make_chart.py:287: UserWarning: FixedFormatter should only be used together with FixedLocator\n",
            "  ax.set_xticklabels([max_val] * len(ax.get_xticks()))\n"
          ]
        }
      ]
    }
  ]
}